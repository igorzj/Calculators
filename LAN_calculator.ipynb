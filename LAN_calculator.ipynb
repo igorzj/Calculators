{
  "nbformat": 4,
  "nbformat_minor": 0,
  "metadata": {
    "colab": {
      "provenance": [],
      "authorship_tag": "ABX9TyPo+ts1MXs1pmdIiGvNRLlL",
      "include_colab_link": true
    },
    "kernelspec": {
      "name": "python3",
      "display_name": "Python 3"
    },
    "language_info": {
      "name": "python"
    }
  },
  "cells": [
    {
      "cell_type": "markdown",
      "metadata": {
        "id": "view-in-github",
        "colab_type": "text"
      },
      "source": [
        "<a href=\"https://colab.research.google.com/github/igorzj/Calculators/blob/main/LAN_calculator.ipynb\" target=\"_parent\"><img src=\"https://colab.research.google.com/assets/colab-badge.svg\" alt=\"Open In Colab\"/></a>"
      ]
    },
    {
      "cell_type": "markdown",
      "source": [
        "ОПРЕДЕЛЕНИЕ СТОИМОСТИ ОРГАНИЗАЦИИ LAN В УЧЕБНЫХ (ШКОЛЬНЫХ) УЧРЕЖДЕНИЯХ"
      ],
      "metadata": {
        "id": "p1I6gWfHMg7z"
      }
    },
    {
      "cell_type": "code",
      "source": [
        "voila \"drive//1LlQ8vrOFbgVipF6PknHIAIXTa3JwuCeB?usp=share_link\""
      ],
      "metadata": {
        "id": "H7uyNKWbOwsc",
        "colab": {
          "base_uri": "https://localhost:8080/",
          "height": 131
        },
        "outputId": "309c6f88-db8a-4b4d-d80f-cf1dc72d1560"
      },
      "execution_count": 4,
      "outputs": [
        {
          "output_type": "error",
          "ename": "SyntaxError",
          "evalue": "ignored",
          "traceback": [
            "\u001b[0;36m  File \u001b[0;32m\"<ipython-input-4-e86db0adb417>\"\u001b[0;36m, line \u001b[0;32m1\u001b[0m\n\u001b[0;31m    voila \"drive//1LlQ8vrOFbgVipF6PknHIAIXTa3JwuCeB?usp=share_link\"\u001b[0m\n\u001b[0m          ^\u001b[0m\n\u001b[0;31mSyntaxError\u001b[0m\u001b[0;31m:\u001b[0m invalid syntax\n"
          ]
        }
      ]
    },
    {
      "cell_type": "markdown",
      "source": [
        "1\tКоличество учеников в учебном заведении"
      ],
      "metadata": {
        "id": "ozi-7AWgMsG7"
      }
    },
    {
      "cell_type": "code",
      "execution_count": null,
      "metadata": {
        "id": "FoExGpTRMfrd"
      },
      "outputs": [],
      "source": [
        "stud_num = 500 # students"
      ]
    },
    {
      "cell_type": "markdown",
      "source": [
        "2\tКоличество смен в учебном заведении"
      ],
      "metadata": {
        "id": "pVdUXY0IM0h8"
      }
    },
    {
      "cell_type": "code",
      "source": [
        "shift_num = 2 # shifts"
      ],
      "metadata": {
        "id": "rjCO1gvyMzuO"
      },
      "execution_count": null,
      "outputs": []
    },
    {
      "cell_type": "code",
      "source": [],
      "metadata": {
        "id": "TZ5TVu99OkP0"
      },
      "execution_count": null,
      "outputs": []
    }
  ]
}