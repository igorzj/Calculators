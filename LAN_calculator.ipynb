{
  "nbformat": 4,
  "nbformat_minor": 0,
  "metadata": {
    "colab": {
      "provenance": [],
      "authorship_tag": "ABX9TyPiigG0kgYDzsfz7qbz3iY9",
      "include_colab_link": true
    },
    "kernelspec": {
      "name": "python3",
      "display_name": "Python 3"
    },
    "language_info": {
      "name": "python"
    }
  },
  "cells": [
    {
      "cell_type": "markdown",
      "metadata": {
        "id": "view-in-github",
        "colab_type": "text"
      },
      "source": [
        "<a href=\"https://colab.research.google.com/github/igorzj/Calculators/blob/main/LAN_calculator.ipynb\" target=\"_parent\"><img src=\"https://colab.research.google.com/assets/colab-badge.svg\" alt=\"Open In Colab\"/></a>"
      ]
    },
    {
      "cell_type": "markdown",
      "source": [
        "ОПРЕДЕЛЕНИЕ СТОИМОСТИ ОРГАНИЗАЦИИ LAN В УЧЕБНЫХ (ШКОЛЬНЫХ) УЧРЕЖДЕНИЯХ"
      ],
      "metadata": {
        "id": "p1I6gWfHMg7z"
      }
    },
    {
      "cell_type": "markdown",
      "source": [
        "1\tКоличество учеников в учебном заведении"
      ],
      "metadata": {
        "id": "ozi-7AWgMsG7"
      }
    },
    {
      "cell_type": "code",
      "execution_count": null,
      "metadata": {
        "id": "FoExGpTRMfrd"
      },
      "outputs": [],
      "source": [
        "stud_num = 500 # students"
      ]
    },
    {
      "cell_type": "markdown",
      "source": [
        "2\tКоличество смен в учебном заведении"
      ],
      "metadata": {
        "id": "pVdUXY0IM0h8"
      }
    },
    {
      "cell_type": "code",
      "source": [
        "shift_num = 2 # shifts"
      ],
      "metadata": {
        "id": "rjCO1gvyMzuO"
      },
      "execution_count": null,
      "outputs": []
    },
    {
      "cell_type": "markdown",
      "source": [
        "3\tСреднее количество учеников в одном классе"
      ],
      "metadata": {
        "id": "ODuD1Fn9U8ay"
      }
    },
    {
      "cell_type": "code",
      "source": [
        "class_stud_num = 30 # students"
      ],
      "metadata": {
        "id": "TZ5TVu99OkP0"
      },
      "execution_count": null,
      "outputs": []
    },
    {
      "cell_type": "markdown",
      "source": [
        "4\tДоля учебных аудиторий, в которых необходима организация подключения к Интернет"
      ],
      "metadata": {
        "id": "0Ma2ga2KU9vK"
      }
    },
    {
      "cell_type": "code",
      "source": [
        "internet_class_share = 20 # %"
      ],
      "metadata": {
        "id": "arAqiibrVCEU"
      },
      "execution_count": null,
      "outputs": []
    },
    {
      "cell_type": "markdown",
      "source": [
        "5 Общая длина учебного заведения\tL, метров"
      ],
      "metadata": {
        "id": "feADl4yIVPsh"
      }
    },
    {
      "cell_type": "code",
      "source": [
        "building_length = 30 # meters"
      ],
      "metadata": {
        "id": "nic5SaeIVPHs"
      },
      "execution_count": null,
      "outputs": []
    },
    {
      "cell_type": "markdown",
      "source": [
        "6 Общая ширина учебного заведения, метров\n",
        "\n"
      ],
      "metadata": {
        "id": "soKKaJMRVRt5"
      }
    },
    {
      "cell_type": "code",
      "source": [
        "building_width = 30 # meters"
      ],
      "metadata": {
        "id": "J4vnZxDeV3rD"
      },
      "execution_count": null,
      "outputs": []
    },
    {
      "cell_type": "markdown",
      "source": [
        "7 Средняя этажность зданий в учебном заведении, этажей"
      ],
      "metadata": {
        "id": "urS6MSUaVR-D"
      }
    },
    {
      "cell_type": "code",
      "source": [
        "building_floors_num = 3 # floors"
      ],
      "metadata": {
        "id": "qikbk5mTV6Os"
      },
      "execution_count": null,
      "outputs": []
    },
    {
      "cell_type": "markdown",
      "source": [
        "8 Предполагаемый период эксплуатации LAN, лет"
      ],
      "metadata": {
        "id": "iZ2arZ5oVSNB"
      }
    },
    {
      "cell_type": "code",
      "source": [
        "operation_period = 5 # years"
      ],
      "metadata": {
        "id": "kp_-aNO2V-Lk"
      },
      "execution_count": null,
      "outputs": []
    },
    {
      "cell_type": "markdown",
      "source": [
        "Расчет параметров локальной вычислительной сети"
      ],
      "metadata": {
        "id": "s4qEEMv3VSqx"
      }
    },
    {
      "cell_type": "code",
      "source": [
        "import pandas as pd\n",
        "lan_data = pd.read_excel('LAN_data.xlsx')"
      ],
      "metadata": {
        "id": "LqOkr8PeZKm5"
      },
      "execution_count": 1,
      "outputs": []
    }
  ]
}